{
 "cells": [
  {
   "cell_type": "markdown",
   "metadata": {},
   "source": [
    "# <img style=\"float: left; padding-right: 20px; width: 200px\" src=\"https://raw.githubusercontent.com/raxlab/imt2200-data/main/media/logo.jpg\">  IMT 2200 - Introducción a Ciencia de Datos\n",
    "**Pontificia Universidad Católica de Chile**<br>\n",
    "**Instituto de Ingeniería Matemática y Computacional**<br>\n",
    "**Semestre 2024-S2**<br>\n",
    "**Profesor:** Rodrigo A. Carrasco <br>\n",
    "\n",
    "# Grupo 11: Análisis de la disparidad de genéro en el ingreso a carreras STEM\n",
    "\n",
    "**Integrantes**: \n",
    "*   Francisco Martinez\n",
    "*   Sebastián Espinoza\n",
    "*   Valentina Valdivia\n",
    "*   Cristopher Campos"
   ]
  },
  {
   "cell_type": "markdown",
   "metadata": {},
   "source": [
    "# Contexto y Motivación: \n",
    "\n",
    "describa el contexto y objetivos del proyecto, para una audiencia que no tiene información previa respecto a él. Incluya referencias, artículos o discusiones que le hayan servido de motivación"
   ]
  },
  {
   "cell_type": "markdown",
   "metadata": {},
   "source": [
    "A pesar de que a medida que avanza el tiempo y la disparidad de género va en disminución, esta sigue bastante presente en áreas matemáticas y científicas. Nuestro proyecto está motivado por la necesidad de analizar esta baja participación de mujeres en carreras STEM.\n",
    "\n",
    "El Servicio de Información de Educación Superior (SIES) de la Subsecretaría de Educación Superior, MINEDUC (2024) https://educacionsuperior.mineduc.cl/, publica anualmente desde 2012 un documento respecto a *Brechas de Género en Educación Superior*, que tiene como objetivo dar a conocer indicadores desagregados por sexo y determinar las brechas observables entre mujeres y hombres en diversos aspectos de la educación. Según el informe más reciente (MINEDUC, 2024), las brechas de género persisten en indicadores como matrícula, titulación, retención de primer año, rendimiento académico y participación en carreras STEM.\n",
    "\n",
    "El concepto de brecha de género, como se define en este informe, indica la diferencia en tasas entre mujeres y hombres respecto a un mismo indicador, expresándose principalmente en puntos porcentuales. Una brecha negativa evidencia una desventaja para las mujeres, mientras que una brecha positiva sugiere mejores resultados en comparación con los hombres. Sin embargo, como enfatiza el SIES, eliminar las brechas numéricas no implica superar la desigualdad estructural de género, ya que esta requiere un análisis más profundo y contextualizado.\n",
    " \n",
    "La investigación también busca comprender cómo diversas políticas como los cupos adicionales para mujeres en carreras STEM, becas y otros incentivos están ayudando a reducir esta brecha. \n",
    "\n",
    "Para nuestro proyecto, queremos analizar la brecha de desigualdad de género en el acceso de mujeres a carreras STEM. Vamos a buscar las posibles dificultades o obstáculos que enfrentan las mujeres en comparación de los hombres.\n",
    "\n",
    "Nos basaremos en datos que incluyen matrículas de estudiantes, desglosados por género y área de conocimiento, información sobre beneficiarios de programas, estadísticas relacionadas con embarazos no planificados, resultados SIMCE, titulados, entre otros. Este enfoque se complementará con artículos académicos y reportes estadísticos que aporten información relevante sobre el tema. Con esta diversidad de fuentes se busca obtener una visión amplia y detallada del panorama actual, facilitando la comprensión de las barreras específicas que enfrentan las mujeres en su acceso a estas áreas."
   ]
  },
  {
   "cell_type": "markdown",
   "metadata": {},
   "source": [
    "# Preguntas Objetivos\n",
    "¿cuáles son las preguntas que busca responder mediante su análisis? ¿Cómo han evolucionado sus preguntas a lo largo del proyecto, y si han aparecido otras nuevas en el camino?"
   ]
  },
  {
   "cell_type": "markdown",
   "metadata": {},
   "source": [
    "## ¿Cómo ha evolucionado la participación de las mujeres en las carreras STEM?\n",
    "\n",
    "(matriculas) (tituladas)"
   ]
  },
  {
   "cell_type": "markdown",
   "metadata": {},
   "source": [
    "## ¿Qué factores sociales o culturales influyen en la poca participación en este tipo de carreras?\n",
    "\n",
    "(porcentajes de embarazos no planificados)"
   ]
  },
  {
   "cell_type": "markdown",
   "metadata": {},
   "source": [
    "## ¿En qué años se observa una mayor participación femenina entre los titulados de carreras técnicas STEM en el país?"
   ]
  },
  {
   "cell_type": "markdown",
   "metadata": {},
   "source": [
    "Para poder responder a esta pregunta, vamos a visualizar los gráficos por región, y tambien el gráfico nacional, para ver si es que hay alguna relación o coincidencia entre los gráficos.  \n",
    "\n"
   ]
  },
  {
   "cell_type": "markdown",
   "metadata": {},
   "source": [
    "![](graficos\\titulados_tecnicas_stem_S.png)\n",
    "![](graficos\\titulados_tecnicas_stem_N.png)\n",
    "![](graficos\\titulados_tecnicas_stem_C.png)\n",
    "![](graficos\\titulados_tecnicas_stem_NACIONAL.png)\n"
   ]
  },
  {
   "cell_type": "markdown",
   "metadata": {},
   "source": [
    "Estos son los links de los graficos:\n",
    "(graficos\\titulados_tecnicas_stem_S.png)\n",
    "(graficos\\titulados_tecnicas_stem_N.png)\n",
    "(graficos\\titulados_tecnicas_stem_C.png)"
   ]
  },
  {
   "cell_type": "markdown",
   "metadata": {},
   "source": [
    "Vamos a visualizar los 4 gráficos para ver si hay alguna especie de relación entre los años. Tenemos los gráficos por región y el gráfico nacional. Vemos que tanto para hombres y mujeres entre los años 2014-2016 se alcanza un peak en la cantidad de personas tituladas, exceptuando en la zona norte que en este ultimo año se llegó a una alta cantidad de hombres titulados. Vemos que en la zona norte, las mujeres entre los años 2015-2016 alcanzaron la mayor cantidad de tituladas hasta el presente año. En la zona centro vemos que al igual que en la zona norte, entre los años 2015-2016 se alcanzó la máxima cifra hasta hoy en dia. Y en el gráfico de la zona sur vemos que fue un poco mas constante la cantidad de mujeres tituladas entre los años 2015-2018, pero aun asi en 2016 fue donde se alcanzó la máxima cantidad de mujeres tituladas. Por ende, y de la mano del gráfico nacional de mujeres tituladas en carreras tecnicas STEM, podemos concluir que en el año 2016 fue donde se alcanzó la mayor cantidad de mujeres tituladas en carreras técnicas STEM. Es curioso que tanto en la zona sur, zona centro y zona norte el peak haya sido alcanzado en el mismo año, lo que sugiere que existieron factores específicos durante ese año que pudieron haber facilitado este aumento en la cantidad de mujeres tituladas."
   ]
  },
  {
   "cell_type": "markdown",
   "metadata": {},
   "source": [
    "## ¿Existen diferencias en las oportunidades que se les dan a los hombres respecto a las mujeres?\n",
    "\n",
    "(corfo anid)\n",
    "\n",
    "![graficoo](https://github.com/Kilpura/ProyectoCIenciaDatos/blob/be2e578dd2ca07d667d9399454cbf8111adbf1f9/graficos/beneficiarios_corfo.png)"
   ]
  },
  {
   "cell_type": "markdown",
   "metadata": {},
   "source": [
    "## ¿Qué rol ocupa la educación escolar en este problema de disparidad?\n",
    "\n",
    "(simce) (evolucion_academica)\n"
   ]
  },
  {
   "cell_type": "markdown",
   "metadata": {},
   "source": [
    "![](graficos\\simce_matemáticas_regiones_N.png)"
   ]
  },
  {
   "cell_type": "markdown",
   "metadata": {},
   "source": [
    "![](graficos\\simce_matematicas_regiones_C.png)"
   ]
  },
  {
   "cell_type": "markdown",
   "metadata": {},
   "source": [
    "![](graficos\\simce_matemáticas_regiones_S.png)"
   ]
  },
  {
   "cell_type": "markdown",
   "metadata": {},
   "source": [
    "Estos son los paths de los graficos:\n",
    "ProyectoCIenciaDatos\\graficos\\simce_matematicas_regiones_C.png\n",
    "ProyectoCIenciaDatos\\graficos\\simce_matemáticas_regiones_N.png\n",
    "ProyectoCIenciaDatos\\graficos\\simce_matemáticas_regiones_S.png"
   ]
  },
  {
   "cell_type": "markdown",
   "metadata": {},
   "source": [
    "Podemos ver que, en general, sin importar la región, a los hombres siempre les ha ido mejor que a las mujeres en la prueba SIMCE de matemáticas. Sin embargo, también vemos en los gráficos que hay ciertos años en los que esta diferencia no es tan notoria, como puede ser, por ejemplo, el año 2015. No sabemos a ciencia cierta a qué se debe este hecho, pero nos permite darnos cuenta de que esta disparidad podría dejar de existir. Si bien, en general, podemos decir que a los hombres tiende a irles mejor que a las mujeres en ramos matemáticos, podemos ver que esto no es una verdad absoluta.\n",
    "\n",
    "El rol que juega la educación escolar es fundamental para demostrar lo antes mencionado, enseñándoles a los jóvenes que no solo los hombres pueden estudiar carreras STEM y que no necesariamente los hombres son mejores que las mujeres en estas materias. También es importante que, en estas instituciones, se les instruya a las mujeres más jóvenes que no existen diferencias entre ellas y los hombres, y que lo que sea que se propongan lo pueden lograr, sin importar el sexo."
   ]
  },
  {
   "cell_type": "markdown",
   "metadata": {},
   "source": [
    "# Datos\n",
    "describa los datos utilizados y su origen, y documente los procedimientos de recolección, preparación y transformación de datos. Describa los datos indicando el tipo de datos, su estructura y los elementos que se describen en la bae de datos."
   ]
  },
  {
   "cell_type": "markdown",
   "metadata": {},
   "source": [
    "*titulados-carreras-tecnicas:\n",
    " Este archivo excel fue sacado de \"https://www.estadisticasdegenero.cl/indicadores/educacion-y-cultura/\", y este archivo presenta a nivel nacional y regional, la cantidad y distribución porcentual de personas tituladas de carreras técnicas del área de conocimiento tecnología según sexo y la brecha de género. El cálculo de dicha brecha se realiza como la diferencia entre la distribución porcentual de las mujeres tituladas y la de los hombres titulados en la respectiva área del conocimiento, por lo tanto, su unidad de medida es puntos porcentuales. La información de la tabla nacional incluye el año, el total de titulados, la cantidad de hombres y mujeres, los porcentajes correspondientes a cada género y la brecha de género, calculada como la diferencia porcentual entre mujeres y hombres titulados, medida en puntos porcentuales. Los datos fueron recolectados de fuentes oficiales, organizados en un formato tabular y validados para garantizar su consistencia, facilitando su análisis en temas de género y educación técnica. La tabla regional contiene la misma información desglosada por región.\n",
    "\n",
    "\n",
    "*titulados-carreras-profesionales:\n",
    "Este archivo excel fue sacado de \"https://www.estadisticasdegenero.cl/indicadores/educacion-y-cultura/\", y este presenta, a nivel nacional y regional, la cantidad y distribución porcentual de personas tituladas de carreras profesionales del área de conocimiento tecnología según sexo y la brecha de género. El cálculo de dicha brecha se realiza como la diferencia entre la distribución porcentual de las mujeres tituladas y la de los hombres titulados en la respectiva área del conocimiento, por lo tanto, su unidad de medida es puntos porcentuales. La información de la tabla nacional incluye el año, el total de titulados, la cantidad de hombres y mujeres, los porcentajes correspondientes a cada género y la brecha de género, calculada como la diferencia porcentual entre mujeres y hombres titulados, medida en puntos porcentuales. Los datos fueron recolectados de fuentes oficiales, organizados en un formato tabular y validados para garantizar su consistencia, facilitando su análisis en temas de género y educación técnica. La tabla regional contiene la misma información desglosada por región.\n",
    "\n",
    "\n",
    "*tasa-de-fecundidad-adolecente:\n",
    "Este archivo excel fue sacado de \"https://www.estadisticasdegenero.cl/indicadores/salud-y-estilo-de-vida/\" y este presenta, a nivel nacional y regional, la tasa de fecundidad adolescente por cada mil mujeres adolescentes entre 10 y 14 años y 15 y 19 años. La maternidad adolescente produce serias consecuencias en la vida de las mujeres limitando su autonomía física y económica. Las tasas fueron calculadas a nivel nacional y regional utilizando como denominador la población proveniente Estimaciones y Proyecciones de Población (en adelante EEPP) en base al censo 2017, por esa razón los datos a nivel nacional son de 1992 a 2020 y a nivel regional los datos son de 2002 a 2020,  que entregan la actual población oficial del país, las cuales filtramos a los años que nos interesan. La tabla regional contiene la misma información desglosada por región.\n",
    "\n",
    "\n",
    "*SIMCE-matemáticas-II°medio: \n",
    "Este archivo fue sacado de \"https://www.estadisticasdegenero.cl/indicadores/educacion-y-cultura/\", y este presenta, a nivel nacional y regional, el puntaje promedio en prueba SIMCE matemáticas de II° medio y brecha de género por sexo,  desde los años 2006 - 2023. El cálculo de dicha brecha se realiza como la diferencia entre el puntaje promedio de las mujeres y el de los hombres, por lo tanto, su unidad de medida es puntos. Los datos incluyen el puntaje promedio obtenido por cada género, medido en puntos, y la brecha de género, calculada como la diferencia entre el puntaje promedio de los hombres y el de las mujeres. La unidad de medida de la brecha es también en puntos. La tabla regional contiene la misma información desglosada por región.\n",
    " \n",
    "\n",
    "*fecundidad-adolescente:\n",
    "Este archivo presenta información sobre las tasas específicas de fecundidad adolescente en Chile entre los años 1992 y 2011, diferenciadas por grupos etarios: madres entre 10-14 años y madres entre 15-19 años. Estas tasas están expresadas como el número de nacimientos vivos por cada 1.000 adolescentes dentro de cada grupo de edad. -----------------------\n",
    "\n",
    "*embarazo_no_planificado:\n",
    "Este archivo fue sacado de \"https://www.estadisticasdegenero.cl/indicadores/salud-y-estilo-de-vida/\", y nos muestra el porcentaje de estudiantes por genero entre 15 y 29 años que vivieron un embarazo no planificado. Contiene 5 columnas que nos indican el año, el porcentaje de hombres y mujeres, y la brecha. La columna NOTA fue eliminada ya que no contenia información util.\n",
    "\n",
    "*anid:\n",
    "Este archivo fue sacado de \"https://www.estadisticasdegenero.cl/indicadores/educacion-y-cultura/\", y este nos muestra la cantidad de personas beneficiadas por proyectos beneficiarios realizados por hombres y mujeres, junto con la cantidad total entre ambas y el porcentaje de ambos generos respecto al total de proyectos beneficiarios."
   ]
  },
  {
   "cell_type": "markdown",
   "metadata": {},
   "source": [
    "# Análisis exploratorio de datos\n",
    "describa el proceso de exploración de sus datos, incluyendo visualizaciones, análisis gráficos, análisis estadísticos, etc. Explique los resultados y conclusiones preliminares obtenidas, y cómo estos influyen o motivan el método de modelamiento elegido. Justifique todas las decisiones adoptadas, tanto la elección de herramientas como las elecciones de visualización."
   ]
  },
  {
   "cell_type": "markdown",
   "metadata": {},
   "source": [
    "# Análisis de datos\n",
    "describa y documente los métodos computacionales y estadísticos aplicados al modelamiento de sus datos. Justifique las elecciones y decisiones adoptadas (ej: selección de variables y parámetros, configuración de algoritmos, normalizaciones, validaciones, etc.), y evalúe sus resultados en base a métricas apropiadas al modelo elaborado (Ej. error cuadrático, intervalo de confiabilidad, precisión, recall, F1, matriz de confusión, etc.)"
   ]
  },
  {
   "cell_type": "markdown",
   "metadata": {},
   "source": [
    "# Resumen de los resultados:\n",
    "explique narrativa y visualmente sus resultados, cómo estos responden a la pregunta original"
   ]
  },
  {
   "cell_type": "markdown",
   "metadata": {},
   "source": [
    "# ¿Qué podría salir mal?\n",
    "explique las posibles limitaciones o sesgos de sus datos o análisis. Identifique qué problemas se podrían generar a partir de su solución o de las decisiones que esta recomiende.\n",
    "\n",
    "El Notebook, datos y códigos asociados deberán estar disponible en el repositorio del proyecto al acumplirse el plazo de entrega estipulado. Todo código o documento subido posteriormente a la fecha límite no será considerado en la evaluación de la entrega."
   ]
  }
 ],
 "metadata": {
  "kernelspec": {
   "display_name": "base",
   "language": "python",
   "name": "python3"
  },
  "language_info": {
   "codemirror_mode": {
    "name": "ipython",
    "version": 3
   },
   "file_extension": ".py",
   "mimetype": "text/x-python",
   "name": "python",
   "nbconvert_exporter": "python",
   "pygments_lexer": "ipython3",
   "version": "3.12.4"
  }
 },
 "nbformat": 4,
 "nbformat_minor": 2
}

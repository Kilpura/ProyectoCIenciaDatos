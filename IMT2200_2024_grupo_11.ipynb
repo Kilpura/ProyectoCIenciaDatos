{
 "cells": [
  {
   "cell_type": "markdown",
   "metadata": {},
   "source": [
    "# <img style=\"float: left; padding-right: 20px; width: 200px\" src=\"https://raw.githubusercontent.com/raxlab/imt2200-data/main/media/logo.jpg\">  IMT 2200 - Introducción a Ciencia de Datos\n",
    "**Pontificia Universidad Católica de Chile**<br>\n",
    "**Instituto de Ingeniería Matemática y Computacional**<br>\n",
    "**Semestre 2024-S2**<br>\n",
    "**Profesor:** Rodrigo A. Carrasco <br>\n",
    "\n",
    "# Grupo 11: Análisis de la disparidad de genéro en el ingreso a carreras STEM\n",
    "\n",
    "**Integrantes**: \n",
    "*   Francisco Martinez\n",
    "*   Sebastián Espinoza\n",
    "*   Valentina Valdivia\n",
    "*   Cristopher Campos"
   ]
  },
  {
   "cell_type": "markdown",
   "metadata": {},
   "source": [
    "# Contexto y Motivación: \n",
    "\n",
    "describa el contexto y objetivos del proyecto, para una audiencia que no tiene información previa respecto a él. Incluya referencias, artículos o discusiones que le hayan servido de motivación"
   ]
  },
  {
   "cell_type": "markdown",
   "metadata": {},
   "source": [
    "A pesar de que a medida que avanza el tiempo y la disparidad de género va en disminución, esta sigue bastante presente en áreas matemáticas y científicas. Nuestro proyecto está motivado por la necesidad de analizar esta baja participación de mujeres en carreras STEM.\n",
    "\n",
    "El Servicio de Información de Educación Superior (SIES) de la Subsecretaría de Educación Superior, MINEDUC (2024) https://educacionsuperior.mineduc.cl/, publica anualmente desde 2012 un documento respecto a *Brechas de Género en Educación Superior*, que tiene como objetivo dar a conocer indicadores desagregados por sexo y determinar las brechas observables entre mujeres y hombres en diversos aspectos de la educación. Según el informe más reciente (MINEDUC, 2024), las brechas de género persisten en indicadores como matrícula, titulación, retención de primer año, rendimiento académico y participación en carreras STEM.\n",
    "\n",
    "El concepto de brecha de género, como se define en este informe, indica la diferencia en tasas entre mujeres y hombres respecto a un mismo indicador, expresándose principalmente en puntos porcentuales. Una brecha negativa evidencia una desventaja para las mujeres, mientras que una brecha positiva sugiere mejores resultados en comparación con los hombres. Sin embargo, como enfatiza el SIES, eliminar las brechas numéricas no implica superar la desigualdad estructural de género, ya que esta requiere un análisis más profundo y contextualizado.\n",
    " \n",
    "La investigación también busca comprender cómo diversas políticas como los cupos adicionales para mujeres en carreras STEM, becas y otros incentivos están ayudando a reducir esta brecha. \n",
    "\n",
    "Para nuestro proyecto, queremos analizar la brecha de desigualdad de género en el acceso de mujeres a carreras STEM. Vamos a buscar las posibles dificultades o obstáculos que enfrentan las mujeres en comparación de los hombres.\n",
    "\n",
    "Nos basaremos en datos que incluyen matrículas de estudiantes, desglosados por género y área de conocimiento, información sobre beneficiarios de programas, estadísticas relacionadas con embarazos no planificados, resultados SIMCE, titulados, entre otros. Este enfoque se complementará con artículos académicos y reportes estadísticos que aporten información relevante sobre el tema. Con esta diversidad de fuentes se busca obtener una visión amplia y detallada del panorama actual, facilitando la comprensión de las barreras específicas que enfrentan las mujeres en su acceso a estas áreas."
   ]
  },
  {
   "cell_type": "markdown",
   "metadata": {},
   "source": [
    "# Preguntas Objetivos\n"
   ]
  },
  {
   "cell_type": "markdown",
   "metadata": {},
   "source": [
    "## ¿Cómo ha evolucionado la participación de las mujeres en las carreras STEM?\n",
    "\n"
   ]
  },
  {
   "cell_type": "markdown",
   "metadata": {},
   "source": [
    "### Trayectoria de carreras STEM, en mujeres y hombres.\n",
    "Para esta pregunta, nos basaremos en los informes acerca de las brechas de genero de parte de informes desarrollados por Servicio de Información de Educación Superior (SIES), al igual de la información presentada por los gráficos de los datos recolectados de los informes anuales usados por parte de la SIES, este análisis se verá la trayectoria de matriculación de primer año y la matriculación total, ambos archivos abarcaremos solo hasta 2023.\n",
    "Este análisis se verá cómo va variando a través de los años matriculaciones de carreras STEM en general por mates de hombres y mujeres, además de que intentaremos hacer una aproximación acerca de 2024 para ver en base a la tendencia de los datos una aproximación de posibles matriculas para primer y total en base hombres o mujeres.\n",
    "\n",
    "Notas adicionales:\n",
    "\n",
    "- Matriculas de primer año: refiere a ingreso de las carreras de tipo STEM por primera vez.\n",
    "\n",
    "- Matriculas totales: referirá a los que aún están matriculados aun en la carrera sin importar en que año estén cursando de la carrera.\n",
    "\n",
    "- Brecha entre hombres y mujeres: esta medición se esta dado por la resta de ambas carreras y sacando el porcentaje de dicho resultado en base el total de las matriculaciones\n",
    "\n",
    "* Fuentes de los grafico: elaborados por nosotros basados en el informe anual de SIES acerca de las brechas de genero a nivel educación superior 2023, publicado el 8 de marzo 2024.\n",
    "\n",
    "Anotaciones:\n",
    " \n",
    "Gráfico acerca de matriculas de primer año y las totales\n",
    "\tMatriculaciones a través de los años\n",
    "-\tSe denota un crecimiento contante por partes de ambos géneros en términos de primer año y de matriculas totales, pero se denota un crecimiento de mayor magnitud en lo planteado a términos de los hombres, siendo las mujeres presenten una magnitud mucho más menor en cuanto a de sus compañeros hombres siendo notable la brecha que se presenta en la carreras y carácter STEM.\n",
    "\n",
    "-\tSe denota igualmente que a pesar del constante crecimiento de nota una baja notable en las matriculaciones totales de los hombres en 2023, al igual que los de primer año, una posible explicación es acerca de que se puede atribuir esta baja al efecto conjunto de acerca del tema del estallido social, la llegada de la pandemia en marzo y abril del 2020, según informe del Ministerio de Educación de Chile (2021)\n",
    "\n",
    "-\tEn cuanto de las mujeres si bien ubo una baja en matriculados y los que ya están es mucho menor en comparación de los hombres.\n",
    "\t \n",
    "Gráfico acerca de la brecha de genero entre los años 2007 y 2023, pd: en este grafico los resultados están en negativo demostrando en base a favor de los hombres en comparación a las mujeres\n",
    "\n",
    "Comportamiento de 2007 a 2023:\n",
    "\n",
    "2008 a 2013\n",
    "\n",
    "- En cuanto la brecha generada a favor de los hombres, la cual aumenta en los años 2009 en los de matrículas totales y de 2008 los de matrículas de primer años ,  denota un aumento a pesar de que en esos años él estaba en como presidencia el gobierno de Michel Bachelet el cual se centró en el acceso mejor para los estudiantes en términos de educación superior, donde a pesar de que sus implementaciones ley o de programas en base educación superior estas al estar dirigidas más en acceso de los más económicamente más desfavorecidos que a las mujeres para las carreras de STEM, donde si bien esta si implemento una ayuda para favorecer el acceso a la mujer en estas tipo de Carrera ( Programa Mujeres en la Ciencia)\n",
    "\n",
    "- Esta brecha demostró un aumento entre esos años de más o menos 4% en los de primer año y más o menos 2% en los de segundo año demostrando menos impacto en estos tipos de carreras pero se denota que en el 2013 se ve el resultado siendo la baja de esos mismos porcentajes de esos años anteriores, aunque luego volvería aumentar pero no tanto.\n",
    "\n",
    "2014 a 2020-2021:\n",
    "\n",
    "- La brecha luego iría poco a poco bajando en las matrículas totales demostrando una mayor retención en las mujeres en carreras STEM en base al grafico de matriculaciones por año o aumento de matriculados por mujeres, tal vez ambos, podemos adjudicar a los programas o  proyectos que entre 2013 hasta 2020 y 2021,  mostrar más difusión o ver en este tema, siendo ejemplo Programa Mujeres en la Ciencia (2013), Ley 21.369 (2021) – Promoción de la Igualdad de Género en Ciencia y Tecnología, Política Nacional de Ciencia, Tecnología, Conocimiento e Innovación (2016).\n",
    "\n",
    "2020-2023:\n",
    "\n",
    "- En cuanto la brecha de matriculación de primer año se denota que si bien tiene una subida y bajada más notada que el de matriculas totales se denota una baja en si entre 2020 y 2022 su aumento por parte de matriculados por hombres lo que aumento su brecha de M-H, también denotar que 2022 en matriculas totales de ve una baja en la brecha en las matriculas totales, en base a los 2 gráficos se deduce que se dio porque por un aumento mayor de los hombres a comparación de las mujeres.\n",
    "  \n",
    "Gráfico de Matrícula Total:\n",
    "\n",
    "- La predicción para 2024 usando un modelo lineal , se muestra una baja en la brecha de género a -57.52%, lo que indica una diferencia a favor de los hombres con una variación de 0.79%.\n",
    "\n",
    "- Esta disminución en la brecha puede atribuirse a un aumento en el ingreso de nuevos estudiantes a las carreras STEM y a una menor deserción en comparación con años anteriores.\n",
    "\n",
    "Gráfico de Matrícula de Primer Año: \n",
    "\n",
    "- Utilizando un modelo polinómico, la predicción para 2024 muestra una brecha de género a favor de los hombres de aproximadamente -60.81%.\n",
    "\n",
    "- En comparación con 2023, hay un ligero aumento en la brecha, lo que sugiere que el ingreso de nuevos estudiantes hombres ha sido mayor que el de mujeres.\n",
    "\n",
    "Interpretación: \n",
    "\n",
    "- La razón principal del aumento en la brecha de género en las matrículas de primer año podría ser el ingreso de nuevos estudiantes a las carreras STEM.\n",
    "\n",
    "- En el caso de las matrículas totales, la disminución de la brecha puede deberse a una combinación de nuevos ingresos y una menor deserción en las carreras.\n",
    "\n",
    "Conclusión al final se demuestra el esfuerzo por parte de los gobiernos o fundaciones que se relacionen con la brecha de datos entre hombres y mujeres en carreras STEM, pese a la visible disminución por parte de esta brecha de genero por aumento de mujeres postuladas o en retención en las carreras STEM en las mujeres, los datos demuestran que aun en términos generales se ha reducido esta brecha, y que en base las regresiones una posible aumento de esta brecha lo cual representara un mayor esfuerzo para reducir esta brecha , siendo la necesidad de aplicar queda un camino largo para hacer realmente una diferencia, donde según que a pesar de las implementaciones de ley y de programas, no se da un avance muy significativo, lo que me da a concluir que esto ya no se da por faltas de ayudas si no de otros tópicos como serian a nivel de externo o interno."
   ]
  },
  {
   "cell_type": "markdown",
   "metadata": {},
   "source": [
    "datos de SIES de brecha de genero: \n",
    "https://www.mifuturo.cl/informe-brechas-de-genero-en-educacion-superior/\n",
    "El objetivo de este informe es presentar las brechas de género de alguno de los principales indicadores de Educación Superior, actualizando los datos del último quinquenio con la información recopilada hasta el año 2023."
   ]
  },
  {
   "cell_type": "markdown",
   "metadata": {},
   "source": [
    "Estos son los path graficos:\n",
    "matriculaciones_de_ingreso_y_mantencion_en_carreras_STEM\n",
    "brecha_genero_matriculacion_total_y_primer_año_en_carreras_STEM\n",
    "regresion_lineal_datos_de_matricula_primer_año\n",
    "regresion_lineal_datos_de_matricula_total"
   ]
  },
  {
   "cell_type": "markdown",
   "metadata": {},
   "source": [
    "## ¿Qué factores sociales o culturales influyen en la poca participación en este tipo de carreras?\n",
    "\n"
   ]
  },
  {
   "cell_type": "markdown",
   "metadata": {},
   "source": [
    "![](graficos\\porcentaje_embarazos_no_planificados.png)\n",
    "\n",
    "El indicador sobre el porcentaje de jóvenes que han vivido un embarazo no planificado a nivel nacional, desglosado por sexo, refleja una situación que genera importantes obstáculos para las trayectorias de vida, especialmente para las mujeres. La brecha entre hombres y mujeres en este contexto muestra que, a lo largo de los años, las mujeres tienen una mayor incidencia de embarazos no planificados, lo que puede dificultar la continuidad de sus estudios y, por ende, su participación en carreras académicas y profesionales. La incapacidad de continuar con la formación educativa debido a responsabilidades relacionadas con la maternidad puede ser uno de los factores que contribuye a la baja participación de las mujeres en áreas como las ciencias, la tecnología, la ingeniería y las matemáticas.\n",
    "![](graficos\\evolucion_academicos.png)\n",
    "\n",
    "Por otro lado, los datos sobre la distribución de académicos y académicas reflejan una tendencia preocupante en cuanto a la representación de mujeres en el ámbito académico. A lo largo de los años, los hombres han dominado la cantidad de puestos académicos en comparación con las mujeres. Este desbalance en la representación de género entre los académicos y académicas contribuye a la falta de referentes femeninos en el ámbito académico, lo que puede desmotivar a las jóvenes a ingresar y perseverar en carreras STEM. La falta de modelos a seguir que compartan experiencias y desafíos similares puede afectar la confianza de las mujeres en su capacidad para sobresalir en estos campos.\n",
    "\n",
    "Este déficit de referentes femeninos en el ámbito académico, junto con los obstáculos sociales y culturales como los embarazos no planificados, contribuye a la baja participación de las mujeres en las carreras STEM. Sin el apoyo adecuado y los referentes necesarios, las mujeres pueden verse desalentadas a seguir estas trayectorias, lo que refuerza las desigualdades de género en el acceso y éxito en estas disciplinas."
   ]
  },
  {
   "cell_type": "markdown",
   "metadata": {},
   "source": [
    "Los paths de los graficps son:\n",
    "graficos\\porcentaje_embarazos_no_planificados.png\n",
    "graficos\\evolucion_academicos.png"
   ]
  },
  {
   "cell_type": "markdown",
   "metadata": {},
   "source": [
    "## ¿En qué años se observa una mayor participación femenina entre los titulados de carreras técnicas STEM en el país?"
   ]
  },
  {
   "cell_type": "markdown",
   "metadata": {},
   "source": [
    "Para poder responder a esta pregunta, vamos a visualizar los gráficos por región, y tambien el gráfico nacional, para ver si es que hay alguna relación o coincidencia entre los gráficos.  \n",
    "\n"
   ]
  },
  {
   "cell_type": "markdown",
   "metadata": {},
   "source": [
    "![](graficos\\titulados_tecnicas_stem_S.png)\n",
    "![](graficos\\titulados_tecnicas_stem_N.png)\n",
    "![](graficos\\titulados_tecnicas_stem_C.png)\n",
    "![](graficos\\titulados_tecnicas_stem_NACIONAL.png)\n"
   ]
  },
  {
   "cell_type": "markdown",
   "metadata": {},
   "source": [
    "Estos son los links de los graficos:\n",
    "(graficos\\titulados_tecnicas_stem_S.png)\n",
    "(graficos\\titulados_tecnicas_stem_N.png)\n",
    "(graficos\\titulados_tecnicas_stem_C.png)"
   ]
  },
  {
   "cell_type": "markdown",
   "metadata": {},
   "source": [
    "Vamos a visualizar los 4 gráficos para ver si hay alguna especie de relación entre los años. Tenemos los gráficos por región y el gráfico nacional. Vemos que tanto para hombres y mujeres entre los años 2014-2016 se alcanza un peak en la cantidad de personas tituladas, exceptuando en la zona norte que en este ultimo año se llegó a una alta cantidad de hombres titulados. Vemos que en la zona norte, las mujeres entre los años 2015-2016 alcanzaron la mayor cantidad de tituladas hasta el presente año. En la zona centro vemos que al igual que en la zona norte, entre los años 2015-2016 se alcanzó la máxima cifra hasta hoy en dia. Y en el gráfico de la zona sur vemos que fue un poco mas constante la cantidad de mujeres tituladas entre los años 2015-2018, pero aun asi en 2016 fue donde se alcanzó la máxima cantidad de mujeres tituladas. Por ende, y de la mano del gráfico nacional de mujeres tituladas en carreras tecnicas STEM, podemos concluir que en el año 2016 fue donde se alcanzó la mayor cantidad de mujeres tituladas en carreras técnicas STEM. Es curioso que tanto en la zona sur, zona centro y zona norte el peak haya sido alcanzado en el mismo año, lo que sugiere que existieron factores específicos durante ese año que pudieron haber facilitado este aumento en la cantidad de mujeres tituladas."
   ]
  },
  {
   "cell_type": "markdown",
   "metadata": {},
   "source": [
    "## ¿Existen diferencias en las oportunidades que se les dan a los hombres respecto a las mujeres?\n",
    "\n",
    "\n"
   ]
  },
  {
   "cell_type": "markdown",
   "metadata": {},
   "source": [
    "Los datos de los proyectos beneficiarios de la Agencia Nacional de Investigación y Desarrollo (ANID) y del Comité InnovaChile de Corfo muestran claramente una disparidad en las oportunidades entre hombres y mujeres.\n",
    "\n",
    "![ANID](graficos\\beneficiarios_anid.png)\n",
    "\n",
    "En el caso de ANID, los proyectos liderados por hombres siempre han sido más numerosos que los liderados por mujeres, con una diferencia visible a lo largo de los años. El gráfico de líneas muestra cómo, año tras año, la cantidad de proyectos liderados por hombres supera a los de mujeres. Aunque se observa un leve aumento en la cantidad de proyectos liderados por mujeres, especialmente en los últimos años, la brecha sigue siendo considerable, indicando que las mujeres aún enfrentan desventajas en comparación con sus colegas masculinos.\n",
    "\n",
    "![CORFO](graficos/beneficiarios_corfo.png)\n",
    "\n",
    "En los datos de Corfo, la tendencia es similar. El gráfico de líneas revela que los proyectos liderados por hombres siguen siendo la mayoría, con una diferencia considerable en la cantidad de beneficiarios entre ambos géneros. En 2015, la brecha era aún más notoria, con un número mucho mayor de proyectos liderados por hombres en comparación con los liderados por mujeres. Aunque la distancia ha disminuido ligeramente en los últimos años, los proyectos liderados por mujeres siguen siendo una minoría, lo que refleja que las oportunidades de liderazgo en los proyectos financiados por Corfo continúan estando desbalanceadas a favor de los hombres."
   ]
  },
  {
   "cell_type": "markdown",
   "metadata": {},
   "source": [
    "Estos son los paths de los graficos:\n",
    "graficos\\beneficiarios_anid.png\n",
    "graficos/beneficiarios_corfo.png"
   ]
  },
  {
   "cell_type": "markdown",
   "metadata": {},
   "source": [
    "## ¿Qué rol ocupa la educación escolar en este problema de disparidad?\n",
    "\n"
   ]
  },
  {
   "cell_type": "markdown",
   "metadata": {},
   "source": [
    "![](graficos\\simce_matemáticas_regiones_N.png)"
   ]
  },
  {
   "cell_type": "markdown",
   "metadata": {},
   "source": [
    "![](graficos\\simce_matematicas_regiones_C.png)"
   ]
  },
  {
   "cell_type": "markdown",
   "metadata": {},
   "source": [
    "![](graficos\\simce_matemáticas_regiones_S.png)"
   ]
  },
  {
   "cell_type": "markdown",
   "metadata": {},
   "source": [
    "Estos son los paths de los graficos:\n",
    "ProyectoCIenciaDatos\\graficos\\simce_matematicas_regiones_C.png\n",
    "ProyectoCIenciaDatos\\graficos\\simce_matemáticas_regiones_N.png\n",
    "ProyectoCIenciaDatos\\graficos\\simce_matemáticas_regiones_S.png"
   ]
  },
  {
   "cell_type": "markdown",
   "metadata": {},
   "source": [
    "Podemos ver que, en general, sin importar la región, a los hombres siempre les ha ido mejor que a las mujeres en la prueba SIMCE de matemáticas. Sin embargo, también vemos en los gráficos que hay ciertos años en los que esta diferencia no es tan notoria, como puede ser, por ejemplo, el año 2015. No sabemos a ciencia cierta a qué se debe este hecho, pero nos permite darnos cuenta de que esta disparidad podría dejar de existir. Si bien, en general, podemos decir que a los hombres tiende a irles mejor que a las mujeres en ramos matemáticos, podemos ver que esto no es una verdad absoluta.\n",
    "\n",
    "El rol que juega la educación escolar es fundamental para demostrar lo antes mencionado, enseñándoles a los jóvenes que no solo los hombres pueden estudiar carreras STEM y que no necesariamente los hombres son mejores que las mujeres en estas materias. También es importante que, en estas instituciones, se les instruya a las mujeres más jóvenes que no existen diferencias entre ellas y los hombres, y que lo que sea que se propongan lo pueden lograr, sin importar el sexo."
   ]
  },
  {
   "cell_type": "markdown",
   "metadata": {},
   "source": [
    "# Datos\n",
    "describa los datos utilizados y su origen, y documente los procedimientos de recolección, preparación y transformación de datos. Describa los datos indicando el tipo de datos, su estructura y los elementos que se describen en la bae de datos."
   ]
  },
  {
   "cell_type": "markdown",
   "metadata": {},
   "source": [
    "*titulados-carreras-tecnicas:\n",
    " Este archivo excel fue sacado de \"https://www.estadisticasdegenero.cl/indicadores/educacion-y-cultura/\", y este archivo presenta a nivel nacional y regional, la cantidad y distribución porcentual de personas tituladas de carreras técnicas del área de conocimiento tecnología según sexo y la brecha de género. El cálculo de dicha brecha se realiza como la diferencia entre la distribución porcentual de las mujeres tituladas y la de los hombres titulados en la respectiva área del conocimiento, por lo tanto, su unidad de medida es puntos porcentuales. La información de la tabla nacional incluye el año, el total de titulados, la cantidad de hombres y mujeres, los porcentajes correspondientes a cada género y la brecha de género, calculada como la diferencia porcentual entre mujeres y hombres titulados, medida en puntos porcentuales. Los datos fueron recolectados de fuentes oficiales, organizados en un formato tabular y validados para garantizar su consistencia, facilitando su análisis en temas de género y educación técnica. La tabla regional contiene la misma información desglosada por región.\n",
    "\n",
    "\n",
    "*titulados-carreras-profesionales:\n",
    "Este archivo excel fue sacado de \"https://www.estadisticasdegenero.cl/indicadores/educacion-y-cultura/\", y este presenta, a nivel nacional y regional, la cantidad y distribución porcentual de personas tituladas de carreras profesionales del área de conocimiento tecnología según sexo y la brecha de género. El cálculo de dicha brecha se realiza como la diferencia entre la distribución porcentual de las mujeres tituladas y la de los hombres titulados en la respectiva área del conocimiento, por lo tanto, su unidad de medida es puntos porcentuales. La información de la tabla nacional incluye el año, el total de titulados, la cantidad de hombres y mujeres, los porcentajes correspondientes a cada género y la brecha de género, calculada como la diferencia porcentual entre mujeres y hombres titulados, medida en puntos porcentuales. Los datos fueron recolectados de fuentes oficiales, organizados en un formato tabular y validados para garantizar su consistencia, facilitando su análisis en temas de género y educación técnica. La tabla regional contiene la misma información desglosada por región.\n",
    "\n",
    "\n",
    "*tasa-de-fecundidad-adolecente:\n",
    "Este archivo excel fue sacado de \"https://www.estadisticasdegenero.cl/indicadores/salud-y-estilo-de-vida/\" y este presenta, a nivel nacional y regional, la tasa de fecundidad adolescente por cada mil mujeres adolescentes entre 10 y 14 años y 15 y 19 años. La maternidad adolescente produce serias consecuencias en la vida de las mujeres limitando su autonomía física y económica. Las tasas fueron calculadas a nivel nacional y regional utilizando como denominador la población proveniente Estimaciones y Proyecciones de Población (en adelante EEPP) en base al censo 2017, por esa razón los datos a nivel nacional son de 1992 a 2020 y a nivel regional los datos son de 2002 a 2020,  que entregan la actual población oficial del país, las cuales filtramos a los años que nos interesan. La tabla regional contiene la misma información desglosada por región.\n",
    "\n",
    "\n",
    "*SIMCE-matemáticas-II°medio: \n",
    "Este archivo fue sacado de \"https://www.estadisticasdegenero.cl/indicadores/educacion-y-cultura/\", y este presenta, a nivel nacional y regional, el puntaje promedio en prueba SIMCE matemáticas de II° medio y brecha de género por sexo,  desde los años 2006 - 2023. El cálculo de dicha brecha se realiza como la diferencia entre el puntaje promedio de las mujeres y el de los hombres, por lo tanto, su unidad de medida es puntos. Los datos incluyen el puntaje promedio obtenido por cada género, medido en puntos, y la brecha de género, calculada como la diferencia entre el puntaje promedio de los hombres y el de las mujeres. La unidad de medida de la brecha es también en puntos. La tabla regional contiene la misma información desglosada por región.\n",
    " \n",
    "\n",
    "*fecundidad-adolescente:\n",
    "Este archivo presenta información sobre las tasas específicas de fecundidad adolescente en Chile entre los años 1992 y 2011, diferenciadas por grupos etarios: madres entre 10-14 años y madres entre 15-19 años. Estas tasas están expresadas como el número de nacimientos vivos por cada 1.000 adolescentes dentro de cada grupo de edad. -----------------------\n",
    "\n",
    "*embarazo_no_planificado:\n",
    "Este archivo fue sacado de \"https://www.estadisticasdegenero.cl/indicadores/salud-y-estilo-de-vida/\", y nos muestra el porcentaje de estudiantes por genero entre 15 y 29 años que vivieron un embarazo no planificado. Contiene 5 columnas que nos indican el año, el porcentaje de hombres y mujeres, y la brecha. La columna NOTA fue eliminada ya que no contenia información util.\n",
    "\n",
    "*anid:\n",
    "Este archivo proviene de la fuente \"https://www.estadisticasdegenero.cl/indicadores/educacion-y-cultura/\" y presenta datos sobre los proyectos beneficiarios de ANID. Contiene la cantidad de personas beneficiadas por estos proyectos, desglosada por género, es decir, el número de hombres y mujeres beneficiados. Además, se incluye el total de personas beneficiadas por ambos géneros y el porcentaje de cada género respecto al total de beneficiarios.\n",
    "\n",
    "*corfo:\n",
    "Este archivo fue extraído de \"https://www.estadisticasdegenero.cl/indicadores/educacion-y-cultura/\" y contiene información sobre los proyectos de CORFO. El archivo muestra la cantidad de personas beneficiadas por estos proyectos, desglosada por género, indicando el número de hombres y mujeres beneficiados. También se incluye el total de beneficiarios y los porcentajes correspondientes de cada género respecto al total de proyectos financiados por CORFO.\n",
    "\n",
    "\n",
    "*datos_filtrados_20072024:\n",
    "Este archivo presenta, por cada carrera y universidad, el número de matriculados desglosado por género, así como el total de matriculados. Los datos están organizados por año, lo que permite analizar las tendencias de matrícula a lo largo del tiempo."
   ]
  },
  {
   "cell_type": "markdown",
   "metadata": {},
   "source": [
    "Para todos estos archivos se hizo el mismo procedimiento. Vimos que los datos estaban en formato object cuando en realidad eran numeros, y otros estaban en float cuando en realidad eran numeros enteros, asi que los cambiamos y dejamos en su formato correcto. \n",
    "Dado el formato de las tablas y excels, muchas tablas contenían texto en las ultimas filas, por ende las eliminamos, y dado que eran pocas filas las eliminamos por su indice. Y con todo este procedimiento, ya tendriamos las tablas limpias."
   ]
  },
  {
   "cell_type": "markdown",
   "metadata": {},
   "source": [
    "# Análisis exploratorio de datos\n",
    "Para analizar los datos, primero creamos los DataFrames necesarios, asegurándonos de que estuvieran correctamente estructurados, limpios y en el formato adecuado para su análisis, ya que la mayoria de los rchivos contaba con los tipos de datos incorrectos, ya que habian numeros que eran tipo floats que facilmente podrian ser enteros, y numeros que estaban en tipo object. Y para trabajar con estos datos de manera eficiente, transformamos los datos a su tipo correcto. Posteriormente, decidimos usar gráficos de líneas para visualizar la evolución de los datos a través del tiempo, ya que estos permiten identificar tendencias, patrones y variaciones en función de los años. A través de los gráficos nos dimos cuenta que la brecha de género en carreras STEM entre hombres y mujeres era bastante clara."
   ]
  },
  {
   "cell_type": "markdown",
   "metadata": {},
   "source": [
    "# Análisis de datos\n",
    "describa y documente los métodos computacionales y estadísticos aplicados al modelamiento de sus datos. Justifique las elecciones y decisiones adoptadas (ej: selección de variables y parámetros, configuración de algoritmos, normalizaciones, validaciones, etc.), y evalúe sus resultados en base a métricas apropiadas al modelo elaborado (Ej. error cuadrático, intervalo de confiabilidad, precisión, recall, F1, matriz de confusión, etc.)"
   ]
  },
  {
   "cell_type": "markdown",
   "metadata": {},
   "source": [
    "# Resumen de los resultados:\n",
    "explique narrativa y visualmente sus resultados, cómo estos responden a la pregunta original"
   ]
  },
  {
   "cell_type": "markdown",
   "metadata": {},
   "source": [
    "# ¿Qué podría salir mal?\n",
    "explique las posibles limitaciones o sesgos de sus datos o análisis. Identifique qué problemas se podrían generar a partir de su solución o de las decisiones que esta recomiende.\n",
    "\n",
    "El Notebook, datos y códigos asociados deberán estar disponible en el repositorio del proyecto al acumplirse el plazo de entrega estipulado. Todo código o documento subido posteriormente a la fecha límite no será considerado en la evaluación de la entrega."
   ]
  }
 ],
 "metadata": {
  "kernelspec": {
   "display_name": "base",
   "language": "python",
   "name": "python3"
  },
  "language_info": {
   "codemirror_mode": {
    "name": "ipython",
    "version": 3
   },
   "file_extension": ".py",
   "mimetype": "text/x-python",
   "name": "python",
   "nbconvert_exporter": "python",
   "pygments_lexer": "ipython3",
   "version": "3.12.4"
  }
 },
 "nbformat": 4,
 "nbformat_minor": 2
}

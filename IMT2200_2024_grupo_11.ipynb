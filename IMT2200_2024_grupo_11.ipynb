{
 "cells": [
  {
   "cell_type": "markdown",
   "metadata": {},
   "source": [
    "# <img style=\"float: left; padding-right: 20px; width: 200px\" src=\"https://raw.githubusercontent.com/raxlab/imt2200-data/main/media/logo.jpg\">  IMT 2200 - Introducción a Ciencia de Datos\n",
    "**Pontificia Universidad Católica de Chile**<br>\n",
    "**Instituto de Ingeniería Matemática y Computacional**<br>\n",
    "**Semestre 2024-S2**<br>\n",
    "**Profesor:** Rodrigo A. Carrasco <br>\n",
    "\n",
    "# Grupo 11: Análisis de la disparidad de genéro en el ingreso a carreras STEM\n",
    "\n",
    "**Integrantes**: \n",
    "*   Francisco Martinez\n",
    "*   Sebastián Espinoza\n",
    "*   Valentina Valdivia\n",
    "*   Cristopher Campos"
   ]
  },
  {
   "cell_type": "markdown",
   "metadata": {},
   "source": [
    "# Contexto y Motivación: \n",
    "\n",
    "describa el contexto y objetivos del proyecto, para una audiencia que no tiene información previa respecto a él. Incluya referencias, artículos o discusiones que le hayan servido de motivación"
   ]
  },
  {
   "cell_type": "markdown",
   "metadata": {},
   "source": [
    "A pesar de que a medida que avanza el tiempo y la disparidad de género va en disminución, esta sigue bastante presente en áreas matemáticas y científicas. Nuestro proyecto está motivado por la necesidad de analizar esta baja participación de mujeres en carreras STEM.\n",
    "El Servicio de Información de Educación Superior (SIES) de la Subsecretaría de Educación Superior, MINEDUC (2024) https://educacionsuperior.mineduc.cl/, publica anualmente desde 2012 un documento respecto a *Brechas de Género en Educación Superior*, que tiene como objetivo dar a conocer indicadores desagregados por sexo y determinar las brechas observables entre mujeres y hombres en diversos aspectos de la educación. Según el informe más reciente (MINEDUC, 2024), las brechas de género persisten en indicadores como matrícula, titulación, retención de primer año, rendimiento académico y participación en carreras STEM.\n",
    "\n",
    "El concepto de brecha de género, como se define en este informe, indica la diferencia en tasas entre mujeres y hombres respecto a un mismo indicador, expresándose principalmente en puntos porcentuales. Una brecha negativa evidencia una desventaja para las mujeres, mientras que una brecha positiva sugiere mejores resultados en comparación con los hombres. Sin embargo, como enfatiza el SIES, eliminar las brechas numéricas no implica superar la desigualdad estructural de género, ya que esta requiere un análisis más profundo y contextualizado.\n",
    " \n",
    "La investigación también busca comprender cómo diversas políticas como los cupos adicionales para mujeres en carreras STEM, becas y otros incentivos están ayudando a reducir esta brecha. Estas iniciativas surgen como respuesta a la falta de representación femenina en estas áreas, en este proyecto se analizará su impacto a lo largo del tiempo y su efectividad para fomentar el acceso a más mujeres a estos programas, evaluando si realmente se fomenta una mayor equidad o no.\n",
    "\n",
    "De esta forma, la brecha de género en carreras científicas es un problema socialmente relevante y complejo que requiere un análisis profundo y multidimensional, el cual se puede estudiar mediante las diversas herramientas y técnicas avanzadas que nos ofrece la ciencia de datos, logrando así identificar tendencias o patrones que las estadísticas tradicionales no entregan, obteniendo también conocimiento valioso que puede generar un impacto real en la sociedad y contribuir al debate sobre cómo mejorar esta problemática dentro de Chile. Además, existe evidencia de que una mayor diversidad en los equipos de investigación y desarrollo conduce a mejores soluciones y avances tecnológicos. Esto refuerza aún más la importancia de estudiar esta brecha.\n",
    "\n",
    "Para nuestro proyecto, queremos analizar la brecha de desigualdad de género en el acceso de mujeres a carreras STEM. Vamos a buscar las posibles dificultades o obstáculos que enfrentan las mujeres a comparación de los hombres\n",
    "\n",
    "Nos basaremos en datos excel de matrículas de estudiantes, desglosados por género y área de conocimiento, complementandose con artículos académicos y reportes estadísticos que aporten información relevante sobre el tema. Este enfoque permitirá una visión amplia y detallada del panorama actual, facilitando la comprensión de las barreras específicas que enfrentan las mujeres en su acceso a estas áreas."
   ]
  },
  {
   "cell_type": "markdown",
   "metadata": {},
   "source": [
    "# Preguntas Objetivos\n",
    "¿cuáles son las preguntas que busca responder mediante su análisis? ¿Cómo han evolucionado sus preguntas a lo largo del proyecto, y si han aparecido otras nuevas en el camino?\n"
   ]
  },
  {
   "cell_type": "markdown",
   "metadata": {},
   "source": [
    "# Datos\n",
    "describa los datos utilizados y su origen, y documente los procedimientos de recolección, preparación y transformación de datos. Describa los datos indicando el tipo de datos, su estructura y los elementos que se describen en la bae de datos."
   ]
  },
  {
   "cell_type": "markdown",
   "metadata": {},
   "source": [
    "*titulados-carreras-tecnicas:\n",
    " Este archivo excel fue sacado de \"https://www.estadisticasdegenero.cl/indicadores/educacion-y-cultura/\", y este archivo presenta a nivel nacional y regional, la cantidad y distribución porcentual de personas tituladas de carreras técnicas del área de conocimiento tecnología según sexo y la brecha de género. El cálculo de dicha brecha se realiza como la diferencia entre la distribución porcentual de las mujeres tituladas y la de los hombres titulados en la respectiva área del conocimiento, por lo tanto, su unidad de medida es puntos porcentuales. La información de la tabla nacional incluye el año, el total de titulados, la cantidad de hombres y mujeres, los porcentajes correspondientes a cada género y la brecha de género, calculada como la diferencia porcentual entre mujeres y hombres titulados, medida en puntos porcentuales. Los datos fueron recolectados de fuentes oficiales, organizados en un formato tabular y validados para garantizar su consistencia, facilitando su análisis en temas de género y educación técnica. La tabla regional contiene la misma información desglosada por región. \n",
    "\n",
    "*titulados-carreras-profesionales:\n",
    "Este archivo excel fue sacado de \"https://www.estadisticasdegenero.cl/indicadores/educacion-y-cultura/\", y este presenta, a nivel nacional y regional, la cantidad y distribución porcentual de personas tituladas de carreras profesionales del área de conocimiento tecnología según sexo y la brecha de género. El cálculo de dicha brecha se realiza como la diferencia entre la distribución porcentual de las mujeres tituladas y la de los hombres titulados en la respectiva área del conocimiento, por lo tanto, su unidad de medida es puntos porcentuales. La información de la tabla nacional incluye el año, el total de titulados, la cantidad de hombres y mujeres, los porcentajes correspondientes a cada género y la brecha de género, calculada como la diferencia porcentual entre mujeres y hombres titulados, medida en puntos porcentuales. Los datos fueron recolectados de fuentes oficiales, organizados en un formato tabular y validados para garantizar su consistencia, facilitando su análisis en temas de género y educación técnica. La tabla regional contiene la misma información desglosada por región. \n",
    "\n",
    "*tasa-de-fecundidad-adolecente:\n",
    "Este archivo excel fue sacado de \"https://www.estadisticasdegenero.cl/indicadores/salud-y-estilo-de-vida/\" y este presenta, a nivel nacional y regional, la tasa de fecundidad adolescente por cada mil mujeres adolescentes entre 10 y 14 años y 15 y 19 años. La maternidad adolescente produce serias consecuencias en la vida de las mujeres limitando su autonomía física y económica. Las tasas fueron calculadas a nivel nacional y regional utilizando como denominador la población proveniente Estimaciones y Proyecciones de Población (en adelante EEPP) en base al censo 2017, por esa razón los datos a nivel nacional son de 1992 a 2020 y a nivel regional los datos son de 2002 a 2020,  que entregan la actual población oficial del país, las cuales filtramos a los años que nos interesan. La tabla regional contiene la misma información desglosada por región.\n",
    "\n",
    "*SIMCE-matemáticas-II°medio: \n",
    "Este archivo fue sacado de \"https://www.estadisticasdegenero.cl/indicadores/educacion-y-cultura/\", y este presenta, a nivel nacional y regional, el puntaje promedio en prueba SIMCE matemáticas de II° medio y brecha de género por sexo,  desde los años 2006 - 2023. El cálculo de dicha brecha se realiza como la diferencia entre el puntaje promedio de las mujeres y el de los hombres, por lo tanto, su unidad de medida es puntos. Los datos incluyen el puntaje promedio obtenido por cada género, medido en puntos, y la brecha de género, calculada como la diferencia entre el puntaje promedio de los hombres y el de las mujeres. La unidad de medida de la brecha es también en puntos. La tabla regional contiene la misma información desglosada por región.\n",
    "\n",
    "*fecundidad-adolescente:\n",
    "Este archivo presenta información sobre las tasas específicas de fecundidad adolescente en Chile entre los años 1992 y 2011, diferenciadas por grupos etarios: madres entre 10-14 años y madres entre 15-19 años. Estas tasas están expresadas como el número de nacimientos vivos por cada 1.000 adolescentes dentro de cada grupo de edad. -----------------------\n",
    "\n",
    "*embarazo_no_planificado:\n",
    "Este archivo fue sacado de \"https://www.estadisticasdegenero.cl/indicadores/salud-y-estilo-de-vida/\", y nos muestra el porcentaje de estudiantes por genero entre 15 y 29 años que vivieron un embarazo no planificado. Contiene 5 columnas que nos indican el año, el porcentaje de hombres y mujeres, y la brecha. La columna NOTA fue eliminada ya que no contenia información util.\n",
    "\n",
    " \n",
    "\n",
    "\n"
   ]
  },
  {
   "cell_type": "markdown",
   "metadata": {
    "vscode": {
     "languageId": "plaintext"
    }
   },
   "source": [
    "Para todos estos archivos se hizo el mismo procedimiento. Vimos que los datos estaban en formato object cuando en realidad eran numeros, y otros estaban en float cuando en realidad eran numeros enteros, asi que los cambiamos y dejamos en su formato correcto. \n",
    "Dado el formato de las tablas y excels, muchas tablas contenían texto en las ultimas filas, por ende las eliminamos, y dado que eran pocas filas las eliminamos por su indice. Y con todo este procedimiento, ya tendriamos las tablas limpias."
   ]
  },
  {
   "cell_type": "markdown",
   "metadata": {},
   "source": [
    "# Análisis exploratorio de datos\n",
    "describa el proceso de exploración de sus datos, incluyendo visualizaciones, análisis gráficos, análisis estadísticos, etc. Explique los resultados y conclusiones preliminares obtenidas, y cómo estos influyen o motivan el método de modelamiento elegido. Justifique todas las decisiones adoptadas, tanto la elección de herramientas como las elecciones de visualización."
   ]
  },
  {
   "cell_type": "markdown",
   "metadata": {},
   "source": [
    "# Análisis de datos\n",
    "describa y documente los métodos computacionales y estadísticos aplicados al modelamiento de sus datos. Justifique las elecciones y decisiones adoptadas (ej: selección de variables y parámetros, configuración de algoritmos, normalizaciones, validaciones, etc.), y evalúe sus resultados en base a métricas apropiadas al modelo elaborado (Ej. error cuadrático, intervalo de confiabilidad, precisión, recall, F1, matriz de confusión, etc.)"
   ]
  },
  {
   "cell_type": "markdown",
   "metadata": {},
   "source": [
    "# Resumen de los resultados:\n",
    "explique narrativa y visualmente sus resultados, cómo estos responden a la pregunta original"
   ]
  },
  {
   "cell_type": "markdown",
   "metadata": {},
   "source": [
    "# ¿Qué podría salir mal?\n",
    "explique las posibles limitaciones o sesgos de sus datos o análisis. Identifique qué problemas se podrían generar a partir de su solución o de las decisiones que esta recomiende.\n",
    "\n",
    "El Notebook, datos y códigos asociados deberán estar disponible en el repositorio del proyecto al acumplirse el plazo de entrega estipulado. Todo código o documento subido posteriormente a la fecha límite no será considerado en la evaluación de la entrega."
   ]
  }
 ],
 "metadata": {
  "language_info": {
   "name": "python"
  }
 },
 "nbformat": 4,
 "nbformat_minor": 2
}

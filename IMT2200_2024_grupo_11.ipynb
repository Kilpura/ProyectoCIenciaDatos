{
 "cells": [
  {
   "cell_type": "markdown",
   "metadata": {},
   "source": [
    "# <img style=\"float: left; padding-right: 20px; width: 200px\" src=\"https://raw.githubusercontent.com/raxlab/imt2200-data/main/media/logo.jpg\">  IMT 2200 - Introducción a Ciencia de Datos\n",
    "**Pontificia Universidad Católica de Chile**<br>\n",
    "**Instituto de Ingeniería Matemática y Computacional**<br>\n",
    "**Semestre 2024-S2**<br>\n",
    "**Profesor:** Rodrigo A. Carrasco <br>\n",
    "\n",
    "# Grupo 11: Análisis de la disparidad de genéro en el ingreso a carreras STEM\n",
    "\n",
    "**Integrantes**: \n",
    "*   Francisco Martinez\n",
    "*   Sebastián Espinoza\n",
    "*   Valentina Valdivia\n",
    "*   Cristopher Campos"
   ]
  },
  {
   "cell_type": "markdown",
   "metadata": {},
   "source": [
    "# Contexto y Motivación: \n",
    "\n",
    "describa el contexto y objetivos del proyecto, para una audiencia que no tiene información previa respecto a él. Incluya referencias, artículos o discusiones que le hayan servido de motivación"
   ]
  },
  {
   "cell_type": "markdown",
   "metadata": {},
   "source": [
    "A pesar de que a medida que avanza el tiempo y la disparidad de género va en disminución, esta sigue bastante presente en áreas matemáticas y científicas. Nuestro proyecto está motivado por la necesidad de analizar esta baja participación de mujeres en carreras STEM.\n",
    "\n",
    "El Servicio de Información de Educación Superior (SIES) de la Subsecretaría de Educación Superior, MINEDUC (2024) https://educacionsuperior.mineduc.cl/, publica anualmente desde 2012 un documento respecto a *Brechas de Género en Educación Superior*, que tiene como objetivo dar a conocer indicadores desagregados por sexo y determinar las brechas observables entre mujeres y hombres en diversos aspectos de la educación. Según el informe más reciente (MINEDUC, 2024), las brechas de género persisten en indicadores como matrícula, titulación, retención de primer año, rendimiento académico y participación en carreras STEM.\n",
    "\n",
    "El concepto de brecha de género, como se define en este informe, indica la diferencia en tasas entre mujeres y hombres respecto a un mismo indicador, expresándose principalmente en puntos porcentuales. Una brecha negativa evidencia una desventaja para las mujeres, mientras que una brecha positiva sugiere mejores resultados en comparación con los hombres. Sin embargo, como enfatiza el SIES, eliminar las brechas numéricas no implica superar la desigualdad estructural de género, ya que esta requiere un análisis más profundo y contextualizado.\n",
    " \n",
    "La investigación también busca comprender cómo diversas políticas como los cupos adicionales para mujeres en carreras STEM, becas y otros incentivos están ayudando a reducir esta brecha. \n",
    "\n",
    "Para nuestro proyecto, queremos analizar la brecha de desigualdad de género en el acceso de mujeres a carreras STEM. Vamos a buscar las posibles dificultades o obstáculos que enfrentan las mujeres en comparación de los hombres.\n",
    "\n",
    "Nos basaremos en datos que incluyen matrículas de estudiantes, desglosados por género y área de conocimiento, información sobre beneficiarios de programas, estadísticas relacionadas con embarazos no planificados, resultados SIMCE, titulados, entre otros. Este enfoque se complementará con artículos académicos y reportes estadísticos que aporten información relevante sobre el tema. Con esta diversidad de fuentes se busca obtener una visión amplia y detallada del panorama actual, facilitando la comprensión de las barreras específicas que enfrentan las mujeres en su acceso a estas áreas."
   ]
  },
  {
   "cell_type": "markdown",
   "metadata": {},
   "source": [
    "# Preguntas Objetivos"
   ]
  },
  {
   "cell_type": "markdown",
   "metadata": {},
   "source": [
    "## ¿Cómo ha evolucionado la participación de las mujeres en las carreras STEM?\n",
    "\n",
    "(matriculas) (tituladas)\n",
    "\n",
    "Para esta pregunta, nos basaremos en los informes acerca de las brechas de genero de parte de informes desarrollados por Servicio de Información de Educación Superior (SIES), al igual de la información presentada por los gráficos de los datos recolectados de los informes anuales usados por parte de la SIES, este análisis se verá la trayectoria de matriculación de primer año y la matriculación total, ambos archivos abarcaremos solo hasta 2023.\n",
    "Este análisis se verá cómo va variando a través de los años matriculaciones de carreras STEM en general por mates de hombres y mujeres, además de que intentaremos hacer una aproximación acerca de 2024 para ver en base a la tendencia de los datos una aproximación de posibles matriculas para primer y total en base hombres o mujeres.\n",
    "\n",
    "![matriculas](graficos/matriculaciones_de_ingreso_y_mantencion_en_carreras_STEM.png)\n",
    "\n",
    "*Gráfico acerca de matriculas de primer año y las totales*\n",
    "\n",
    "*   Matriculaciones a través de los años\n",
    "\n",
    "    -\tSe denota un crecimiento contante por partes de ambos géneros en términos de primer año y de matriculas totales, pero se denota un crecimiento de mayor magnitud en lo planteado a términos de los hombres, siendo las mujeres presenten una magnitud mucho más menor en cuanto a de sus compañeros hombres siendo notable la brecha que se presenta en la carreras y carácter STEM.\n",
    "\n",
    "    -   Se denota igualmente que a pesar del constante crecimiento de nota una baja notable en las matriculaciones totales de los hombres en 2023, al igual que los de primer año, una posible explicación es acerca de que se puede atribuir esta baja al efecto conjunto de acerca del tema del estallido social, la llegada de la pandemia en marzo y abril del 2020, según informe del Ministerio de Educación de Chile (2021).\n",
    "\n",
    "    -   En cuanto de las mujeres si bien ubo una baja en matriculados y los que ya están es mucho menor en comparación de los hombres.\n",
    "\n",
    "![matriculas](graficos/brecha_genero_matriculacion_total_y_primer_año_en_carreras_STEM.png)\n",
    "\n",
    "*Gráfico acerca de la brecha de genero entre los años 2007 y 2023*\n",
    "\n",
    "*   Comportamiento de 2007 a 2023\n",
    "\n",
    "    -   En cuanto la brecha generada a favor de los hombres, la cual aumenta en los años 2009 en los de matrículas totales y de 2008 los de matrículas de primer años ,  denota un aumento a pesar de que en esos años él estaba en como presidencia el gobierno de Michel Bachelet el cual se centró en el acceso mejor para los estudiantes en términos de educación superior, donde a pesar de que sus implementaciones ley o de programas en base educación superior estas al estar dirigidas más en acceso de los más económicamente más desfavorecidos que a las mujeres para las carreras de STEM, donde si bien esta si implemento una ayuda para favorecer el acceso a la mujer en estas tipo de Carrera (Programa Mujeres en la Ciencia)\n",
    "\n",
    "    -   Esta brecha demostró un aumento entre esos años de más o menos 4% en los de primer año y más o menos 2% en los de segundo año demostrando menos impacto en estos tipos de carreras pero se denota que en el 2013 se ve el resultado siendo la baja de esos mismos porcentajes de esos años anteriores, aunque luego volvería aumentar pero no tanto.\n",
    "\n",
    "    -   La brecha luego iría poco a poco bajando en las matrículas totales demostrando una mayor retención en las mujeres en carreras STEM en base al grafico de matriculaciones por año o aumento de matriculados por mujeres, tal vez ambos, podemos adjudicar a los programas o  proyectos que entre 2013 hasta 2020 y 2021,  mostrar más difusión o ver en este tema, siendo ejemplo Programa Mujeres en la Ciencia (2013), Ley 21.369 (2021) – Promoción de la Igualdad de Género en Ciencia y Tecnología, Política Nacional de Ciencia, Tecnología, Conocimiento e Innovación (2016).\n",
    "\n",
    "    -   En cuanto la brecha de matriculación de primer año se denota que si bien tiene una subida y bajada más notada que el de matriculas totales se denota una baja en si entre 2020 y 2022 su aumento por parte de matriculados por hombres lo que aumento su brecha de M-H, también denotar que 2022 en matriculas totales de ve una baja en la brecha en las matriculas totales, en base a los 2 gráficos se deduce que se dio porque por un aumento mayor de los hombres a comparación de las mujeres."
   ]
  },
  {
   "cell_type": "markdown",
   "metadata": {},
   "source": [
    "## ¿Qué factores sociales o culturales influyen en la poca participación en este tipo de carreras?\n",
    "\n",
    "(porcentajes de embarazos no planificados)"
   ]
  },
  {
   "cell_type": "markdown",
   "metadata": {},
   "source": [
    "## **¿Cómo y en qué afecta la baja cantidad de mujeres en las carreras STEM?**  (replantearla o cambiarla)\n"
   ]
  },
  {
   "cell_type": "markdown",
   "metadata": {},
   "source": [
    "## ¿Existen diferencias en las oportunidades que se les dan a los hombres respecto a las mujeres?\n",
    "\n",
    "(corfo anid)"
   ]
  },
  {
   "cell_type": "markdown",
   "metadata": {},
   "source": [
    "## ¿Qué rol ocupa la educación escolar en este problema de disparidad?\n",
    "\n",
    "(simce) (evolucion_academica)\n"
   ]
  },
  {
   "cell_type": "markdown",
   "metadata": {},
   "source": [
    "# Datos\n",
    "describa los datos utilizados y su origen, y documente los procedimientos de recolección, preparación y transformación de datos. Describa los datos indicando el tipo de datos, su estructura y los elementos que se describen en la bae de datos."
   ]
  },
  {
   "cell_type": "markdown",
   "metadata": {},
   "source": [
    "*titulados-carreras-tecnicas:\n",
    " Este archivo excel fue sacado de \"https://www.estadisticasdegenero.cl/indicadores/educacion-y-cultura/\", y este archivo presenta a nivel nacional y regional, la cantidad y distribución porcentual de personas tituladas de carreras técnicas del área de conocimiento tecnología según sexo y la brecha de género. El cálculo de dicha brecha se realiza como la diferencia entre la distribución porcentual de las mujeres tituladas y la de los hombres titulados en la respectiva área del conocimiento, por lo tanto, su unidad de medida es puntos porcentuales. La información de la tabla nacional incluye el año, el total de titulados, la cantidad de hombres y mujeres, los porcentajes correspondientes a cada género y la brecha de género, calculada como la diferencia porcentual entre mujeres y hombres titulados, medida en puntos porcentuales. Los datos fueron recolectados de fuentes oficiales, organizados en un formato tabular y validados para garantizar su consistencia, facilitando su análisis en temas de género y educación técnica. La tabla regional contiene la misma información desglosada por región. \n",
    "\n",
    "*titulados-carreras-profesionales:\n",
    "Este archivo excel fue sacado de \"https://www.estadisticasdegenero.cl/indicadores/educacion-y-cultura/\", y este presenta, a nivel nacional y regional, la cantidad y distribución porcentual de personas tituladas de carreras profesionales del área de conocimiento tecnología según sexo y la brecha de género. El cálculo de dicha brecha se realiza como la diferencia entre la distribución porcentual de las mujeres tituladas y la de los hombres titulados en la respectiva área del conocimiento, por lo tanto, su unidad de medida es puntos porcentuales. La información de la tabla nacional incluye el año, el total de titulados, la cantidad de hombres y mujeres, los porcentajes correspondientes a cada género y la brecha de género, calculada como la diferencia porcentual entre mujeres y hombres titulados, medida en puntos porcentuales. Los datos fueron recolectados de fuentes oficiales, organizados en un formato tabular y validados para garantizar su consistencia, facilitando su análisis en temas de género y educación técnica. La tabla regional contiene la misma información desglosada por región. \n",
    "\n",
    "*tasa-de-fecundidad-adolecente:\n",
    "Este archivo excel fue sacado de \"https://www.estadisticasdegenero.cl/indicadores/salud-y-estilo-de-vida/\" y este presenta, a nivel nacional y regional, la tasa de fecundidad adolescente por cada mil mujeres adolescentes entre 10 y 14 años y 15 y 19 años. La maternidad adolescente produce serias consecuencias en la vida de las mujeres limitando su autonomía física y económica. Las tasas fueron calculadas a nivel nacional y regional utilizando como denominador la población proveniente Estimaciones y Proyecciones de Población (en adelante EEPP) en base al censo 2017, por esa razón los datos a nivel nacional son de 1992 a 2020 y a nivel regional los datos son de 2002 a 2020,  que entregan la actual población oficial del país, las cuales filtramos a los años que nos interesan. La tabla regional contiene la misma información desglosada por región.\n",
    "\n",
    "*SIMCE-matemáticas-II°medio: \n",
    "Este archivo fue sacado de \"https://www.estadisticasdegenero.cl/indicadores/educacion-y-cultura/\", y este presenta, a nivel nacional y regional, el puntaje promedio en prueba SIMCE matemáticas de II° medio y brecha de género por sexo,  desde los años 2006 - 2023. El cálculo de dicha brecha se realiza como la diferencia entre el puntaje promedio de las mujeres y el de los hombres, por lo tanto, su unidad de medida es puntos. Los datos incluyen el puntaje promedio obtenido por cada género, medido en puntos, y la brecha de género, calculada como la diferencia entre el puntaje promedio de los hombres y el de las mujeres. La unidad de medida de la brecha es también en puntos. La tabla regional contiene la misma información desglosada por región.\n",
    "\n",
    "*fecundidad-adolescente:\n",
    "Este archivo presenta información sobre las tasas específicas de fecundidad adolescente en Chile entre los años 1992 y 2011, diferenciadas por grupos etarios: madres entre 10-14 años y madres entre 15-19 años. Estas tasas están expresadas como el número de nacimientos vivos por cada 1.000 adolescentes dentro de cada grupo de edad. -----------------------\n",
    "\n",
    "*embarazo_no_planificado:\n",
    "Este archivo fue sacado de \"https://www.estadisticasdegenero.cl/indicadores/salud-y-estilo-de-vida/\", y nos muestra el porcentaje de estudiantes por genero entre 15 y 29 años que vivieron un embarazo no planificado. Contiene 5 columnas que nos indican el año, el porcentaje de hombres y mujeres, y la brecha. La columna NOTA fue eliminada ya que no contenia información util.\n",
    "\n",
    " \n",
    "\n",
    "\n"
   ]
  },
  {
   "cell_type": "markdown",
   "metadata": {
    "vscode": {
     "languageId": "plaintext"
    }
   },
   "source": [
    "Para todos estos archivos se hizo el mismo procedimiento. Vimos que los datos estaban en formato object cuando en realidad eran numeros, y otros estaban en float cuando en realidad eran numeros enteros, asi que los cambiamos y dejamos en su formato correcto. \n",
    "Dado el formato de las tablas y excels, muchas tablas contenían texto en las ultimas filas, por ende las eliminamos, y dado que eran pocas filas las eliminamos por su indice. Y con todo este procedimiento, ya tendriamos las tablas limpias."
   ]
  },
  {
   "cell_type": "markdown",
   "metadata": {},
   "source": [
    "# Análisis exploratorio de datos\n",
    "describa el proceso de exploración de sus datos, incluyendo visualizaciones, análisis gráficos, análisis estadísticos, etc. Explique los resultados y conclusiones preliminares obtenidas, y cómo estos influyen o motivan el método de modelamiento elegido. Justifique todas las decisiones adoptadas, tanto la elección de herramientas como las elecciones de visualización."
   ]
  },
  {
   "cell_type": "markdown",
   "metadata": {},
   "source": [
    "# Análisis de datos\n",
    "describa y documente los métodos computacionales y estadísticos aplicados al modelamiento de sus datos. Justifique las elecciones y decisiones adoptadas (ej: selección de variables y parámetros, configuración de algoritmos, normalizaciones, validaciones, etc.), y evalúe sus resultados en base a métricas apropiadas al modelo elaborado (Ej. error cuadrático, intervalo de confiabilidad, precisión, recall, F1, matriz de confusión, etc.)"
   ]
  },
  {
   "cell_type": "markdown",
   "metadata": {},
   "source": [
    "# Resumen de los resultados:\n",
    "explique narrativa y visualmente sus resultados, cómo estos responden a la pregunta original"
   ]
  },
  {
   "cell_type": "markdown",
   "metadata": {},
   "source": [
    "# ¿Qué podría salir mal?\n",
    "explique las posibles limitaciones o sesgos de sus datos o análisis. Identifique qué problemas se podrían generar a partir de su solución o de las decisiones que esta recomiende.\n",
    "\n",
    "El Notebook, datos y códigos asociados deberán estar disponible en el repositorio del proyecto al acumplirse el plazo de entrega estipulado. Todo código o documento subido posteriormente a la fecha límite no será considerado en la evaluación de la entrega."
   ]
  }
 ],
 "metadata": {
  "language_info": {
   "name": "python"
  }
 },
 "nbformat": 4,
 "nbformat_minor": 2
}
